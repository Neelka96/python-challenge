{
 "cells": [
  {
   "cell_type": "code",
   "execution_count": 107,
   "metadata": {},
   "outputs": [],
   "source": [
    "# Neel Agarwal @Neelka96\n",
    "# Last Updated: 12.4.2024\n",
    "\n",
    "# PyBank Instructions\n",
    "# In this Challenge, you are tasked with creating a Python script to analyze the \n",
    "# financial records of your company.**\n",
    "\n",
    "# You will be given a financial dataset called **budget_data.csv**. The dataset is # composed of two columns: **\"Date\" and \"Profit/Losses\"**.\n",
    "# Your task is to create a Python script that analyzes the records to calculate \n",
    "# each of the following values:\n",
    "\n",
    "# The total number of months included in the dataset\n",
    "# The net total amount of \"Profit/Losses\" over the entire period\n",
    "# The changes in \"Profit/Losses\" over the entire period, and then the average of \n",
    "# those changes\n",
    "# The greatest increase in profits (date and amount) over the entire period\n",
    "# The greatest decrease in profits (date and amount) over the entire period\n",
    "\n",
    "# In addition, your final script should both print the analysis to the terminal and # export a text file with the results.\n",
    "\n",
    "\n",
    "# Desired output:\n",
    "\n",
    "# Financial Analysis\n",
    "# --------------------------\n",
    "# Total Months: 86\n",
    "# Total: $22564198\n",
    "# Average Change: $-8311.11\n",
    "# Greatest Increase in Profits: Aug-16 ($1862002)\n",
    "# Greatest Decrease in Profits: Feb-14 ($-1825558)"
   ]
  },
  {
   "cell_type": "code",
   "execution_count": 108,
   "metadata": {},
   "outputs": [],
   "source": [
    "# Import Libraries\n",
    "import csv\n",
    "import os"
   ]
  },
  {
   "cell_type": "code",
   "execution_count": 109,
   "metadata": {},
   "outputs": [],
   "source": [
    "# Set .csv and .txt paths for importing and exporting\n",
    "inPath = os.path.join(\"Resources\", \"budget_data.csv\")\n",
    "outPath = os.path.join(\"analysis\", \"budget_analysis.txt\")"
   ]
  },
  {
   "cell_type": "code",
   "execution_count": null,
   "metadata": {},
   "outputs": [],
   "source": [
    "# GLOBAL VARIABLES:\n",
    "# -----------------\n",
    "totalMonths = 0\n",
    "netProfit = 0\n",
    "# Change & date list are connected via index\n",
    "changeList = [] # changeList will collect differentials between neighboring values\n",
    "dateList = []   # dateList will store the date the changeValue is subtracted from\n",
    "maxVal = ['', 0]\n",
    "minVal = ['', 0]"
   ]
  },
  {
   "cell_type": "code",
   "execution_count": 111,
   "metadata": {},
   "outputs": [],
   "source": [
    "# Open csv path var and begin reading\n",
    "# csv path set to var > open csv file under new alias > start reading under alias\n",
    "# path > open(path) = path.open() > readerVar = csv.Reader(path.open())\n",
    "with open(inPath, 'r') as inData:\n",
    "    csvReader = csv.reader(inData, delimiter = \",\")\n",
    "    header = next(csvReader)    # Skip header row\n",
    "    \n",
    "    priorRow = next(csvReader)  # Save and skip 1st csv row for changeList[]\n",
    "    priorRow[1] = int(priorRow[1])  # Recast for permanent int usage\n",
    "    netProfit += priorRow[1]    # Add current value into summed profit/losses\n",
    "    totalMonths += 1    # Count first row not included in \"for\" loop\n",
    "    \n",
    "    for row in csvReader:\n",
    "        row[1] = int(row[1])   # Recasting for permanent int usage\n",
    "        netProfit += row[1]    # Calculate net profit/loss\n",
    "        totalMonths += 1    # Find total months listed in csv\n",
    "        \n",
    "        budgetChg = row[1] - priorRow[1] # Calc Current Change\n",
    "        changeList.append(budgetChg) # Appends differential to list\n",
    "        dateList.append(row[0]) # Appends current date to change list\n",
    "\n",
    "        if maxVal[1] < budgetChg:       # Checks if current chg > than max chg\n",
    "            maxVal[0] = row[0]      # If so -> Set maxVal list to budget chg & date\n",
    "            maxVal[1] = budgetChg\n",
    "            if len(maxVal) > 2:     # If replacing maxVal delete other values\n",
    "                del maxVal[2:]\n",
    "        elif maxVal[1] == budgetChg:    # Checks if current chg = max chg\n",
    "            maxVal.append(row[0])   # If so -> Add to list (can be deleted later)\n",
    "            maxVal.append(budgetChg)\n",
    "\n",
    "        if minVal[1] > budgetChg:    # Checks if current chg < then min chg\n",
    "            minVal[0] = row[0]      # If so -> Set minVal list to budget chg & date\n",
    "            minVal[1] = budgetChg\n",
    "            if len(minVal) > 2:     # If replacing minVal delete other values\n",
    "                del minVal[2:]\n",
    "        elif minVal[1] == budgetChg:    # Checks if current chg = max chg  \n",
    "            minVal.append(row[0])   # If so -> Add to list (can be deleted later)\n",
    "            minVal.append(budgetChg)\n",
    "            \n",
    "        priorRow = row  # Sets current row as \"prior\" for next iteration\n",
    "\n",
    "    avgChg = sum(changeList) # changeList has 1 less month than csv\n",
    "    avgChg /= (totalMonths - 1)\n",
    "    avgChg = format(avgChg, \".2f\") # Formatting avg to 2 decimal points"
   ]
  },
  {
   "cell_type": "code",
   "execution_count": 112,
   "metadata": {},
   "outputs": [
    {
     "name": "stdout",
     "output_type": "stream",
     "text": [
      "Financial Analysis\n",
      "-------------------------\n",
      "Total Months: 86\n",
      "Total: $22564198\n",
      "Average Change: $-8311.11\n",
      "Greatest Increase in Profits: Aug-16 ($1862002)\n",
      "Greatest Decrease in Profits: Feb-14 ($-1825558)\n",
      "\n"
     ]
    }
   ],
   "source": [
    "# Printing statements w/ desired terminal output formatting\n",
    "outString = \"Financial Analysis\\n\"\n",
    "outString += f\"{'-' * 25}\\n\"\n",
    "outString += f\"Total Months: {totalMonths}\\n\"\n",
    "outString += f\"Total: ${netProfit}\\n\"\n",
    "outString += f\"Average Change: ${avgChg}\\n\"\n",
    "\n",
    "if len(maxVal) == 2:\n",
    "    outString += f\"Greatest Increase in Profits: {maxVal[0]} (${maxVal[1]})\\n\"\n",
    "else:   # Accounting for maxVal list greater than length 2\n",
    "    for n in range(int(len(maxVal) / 2)):\n",
    "        outString += f\"Greatest Increase in Profits: {maxVal[n*2]} (${maxVal[(n*2)+1]})\\n\"\n",
    "\n",
    "if len(minVal) == 2:\n",
    "    outString += f\"Greatest Decrease in Profits: {minVal[0]} (${minVal[1]})\\n\"\n",
    "else:   # Accounting for minVal list greater than length 2\n",
    "    for n in range(int(len(minVal) / 2)):\n",
    "        outString += f\"Greatest Decrease in Profits: {minVal[n*2]} (${minVal[(n*2)+1]})\\n\"\n",
    "\n",
    "print(outString)"
   ]
  },
  {
   "cell_type": "code",
   "execution_count": 113,
   "metadata": {},
   "outputs": [],
   "source": [
    "# Output method - writing formatted analysis to .txt file\n",
    "# Does it need to be in csv formatting or in the same format as analysis?\n",
    "with open(outPath, 'w') as outData:\n",
    "    outData.write(outString)"
   ]
  }
 ],
 "metadata": {
  "kernelspec": {
   "display_name": "base",
   "language": "python",
   "name": "python3"
  },
  "language_info": {
   "codemirror_mode": {
    "name": "ipython",
    "version": 3
   },
   "file_extension": ".py",
   "mimetype": "text/x-python",
   "name": "python",
   "nbconvert_exporter": "python",
   "pygments_lexer": "ipython3",
   "version": "3.12.7"
  }
 },
 "nbformat": 4,
 "nbformat_minor": 2
}
