{
 "cells": [
  {
   "cell_type": "markdown",
   "metadata": {},
   "source": [
    "### Neel Agarwal @Neelka96\n",
    "### Last Updated: 12.4.2024\n",
    "\n",
    "### PyBank Instructions\n",
    "**In this Challenge, you are tasked with creating a Python script to analyze the financial records of your company.**\n",
    "\n",
    "#### You will be given a financial dataset called **budget_data.csv**. The dataset is composed of two columns: **\"Date\" and \"Profit/Losses\"**.\n",
    "#### Your task is to create a Python script that analyzes the records to calculate each of the following values:\n",
    "\n",
    "##### The total number of months included in the dataset\n",
    "##### The net total amount of \"Profit/Losses\" over the entire period\n",
    "##### The changes in \"Profit/Losses\" over the entire period, and then the average of those changes\n",
    "##### The greatest increase in profits (date and amount) over the entire period\n",
    "##### The greatest decrease in profits (date and amount) over the entire period\n",
    "\n",
    "In addition, your final script should both print the analysis to the terminal and export a text file with the results.\n",
    "\n",
    "Desired output:\n",
    "\n",
    "##### Financial Analysis\n",
    "\n",
    "---\n",
    "\n",
    "##### Total Months: 86\n",
    "\n",
    "##### Total: $22564198\n",
    "\n",
    "##### Average Change: $-8311.11\n",
    "\n",
    "##### Greatest Increase in Profits: Aug-16 ($1862002)\n",
    "\n",
    "##### Greatest Decrease in Profits: Feb-14 ($-1825558)"
   ]
  },
  {
   "cell_type": "code",
   "execution_count": 64,
   "metadata": {},
   "outputs": [],
   "source": [
    "# Import Libraries\n",
    "import csv\n",
    "import os"
   ]
  },
  {
   "cell_type": "code",
   "execution_count": 65,
   "metadata": {},
   "outputs": [],
   "source": [
    "# Set .csv and .txt paths for importing and exporting\n",
    "importPath = os.path.join(\"Resources\", \"budget_data.csv\")\n",
    "exportPath = os.path.join(\"analysis\", \"budget_analysis.txt\")"
   ]
  },
  {
   "cell_type": "code",
   "execution_count": 66,
   "metadata": {},
   "outputs": [],
   "source": [
    "# Global variables initializations\n",
    "totalMonths = 0\n",
    "netProfit = 0\n",
    "changeList = {} # changeList will collect differentials between neighboring values\n",
    "maxVal = []\n",
    "minVal = []\n",
    "avgChange = 0"
   ]
  },
  {
   "cell_type": "code",
   "execution_count": 68,
   "metadata": {},
   "outputs": [
    {
     "ename": "TypeError",
     "evalue": "unsupported operand type(s) for -: 'str' and 'int'",
     "output_type": "error",
     "traceback": [
      "\u001b[0;31m---------------------------------------------------------------------------\u001b[0m",
      "\u001b[0;31mTypeError\u001b[0m                                 Traceback (most recent call last)",
      "Cell \u001b[0;32mIn[68], line 24\u001b[0m\n\u001b[1;32m     21\u001b[0m     minVal \u001b[38;5;241m=\u001b[39m [\u001b[38;5;124m\"\u001b[39m\u001b[38;5;124m\"\u001b[39m, \u001b[38;5;241m0\u001b[39m]\n\u001b[1;32m     23\u001b[0m budgetChange \u001b[38;5;241m=\u001b[39m \u001b[38;5;28mint\u001b[39m(row[\u001b[38;5;241m1\u001b[39m]) \u001b[38;5;241m-\u001b[39m \u001b[38;5;28mint\u001b[39m(priorRow[\u001b[38;5;241m1\u001b[39m]) \u001b[38;5;66;03m# Calc Current Change\u001b[39;00m\n\u001b[0;32m---> 24\u001b[0m changeList \u001b[38;5;241m=\u001b[39m row[\u001b[38;5;241m0\u001b[39m] \u001b[38;5;241m-\u001b[39m \u001b[38;5;28mint\u001b[39m(row[\u001b[38;5;241m1\u001b[39m]) \u001b[38;5;66;03m# Appends differential to list\u001b[39;00m\n\u001b[1;32m     25\u001b[0m priorRow \u001b[38;5;241m=\u001b[39m row  \u001b[38;5;66;03m# Sets current row as \"prior\" for next iteration\u001b[39;00m\n\u001b[1;32m     27\u001b[0m \u001b[38;5;28;01mif\u001b[39;00m (maxVal[\u001b[38;5;241m1\u001b[39m] \u001b[38;5;241m<\u001b[39m changeList[\u001b[38;5;241m1\u001b[39m]):\n",
      "\u001b[0;31mTypeError\u001b[0m: unsupported operand type(s) for -: 'str' and 'int'"
     ]
    }
   ],
   "source": [
    "\n",
    "# Open csv path var and begin reading\n",
    "# csv path set to var > open csv file under new alias > start reading under alias\n",
    "# path > open(path) = path.open() > readerVar = csv.Reader(path.open())\n",
    "with open(importPath, 'r') as importData:\n",
    "    csvReader = csv.reader(importData, delimiter = \",\")\n",
    "    header = next(csvReader)    # Skip header row\n",
    "    \n",
    "    priorRow = next(csvReader)  # Save and skip 1st csv row for changeList[]\n",
    "    totalMonths += 1    # Count first row not included in \"for\" loop\n",
    "    \n",
    "    # maxVal = priorRow   # Set max/min values arrays to 1st entry\n",
    "    # minVal = priorRow\n",
    "\n",
    "\n",
    "    for row in csvReader:\n",
    "        totalMonths += 1    # Find total months listed in csv\n",
    "        netProfit += int(row[1])    # Calculate net profit/loss\n",
    "        \n",
    "        if (len(changeList) == 0):\n",
    "            maxVal = [\"\", 0]\n",
    "            minVal = [\"\", 0]\n",
    "\n",
    "        budgetChange = int(row[1]) - int(priorRow[1]) # Calc Current Change\n",
    "        changeList = row[0] - int(row[1]) # Appends differential to list\n",
    "        priorRow = row  # Sets current row as \"prior\" for next iteration\n",
    "\n",
    "        if (maxVal[1] < changeList[1]):\n",
    "            maxVal = changeList\n",
    "        elif (minVal[1] > changeList[1]):\n",
    "            minVal = changeList\n",
    "\n",
    "    avgChange = sum(changeList[1]) # Using a \"for\" loop is OK here too\n",
    "    avgChange /= (totalMonths - 1)  # avgChange /= len(changeList) is OK too"
   ]
  },
  {
   "cell_type": "code",
   "execution_count": null,
   "metadata": {},
   "outputs": [
    {
     "name": "stdout",
     "output_type": "stream",
     "text": [
      "Months: 172, Profit/Loss: 42950430, Avg Change: -8262.502923976608\n",
      "Greatest Increase in Profits: May-13 (99841)\n",
      "Greatest Decrease in Profits: Jul-11 (-1066544)\n"
     ]
    }
   ],
   "source": [
    "print(f\"Months: {totalMonths}, Profit/Loss: {netProfit}, Avg Change: {avgChange}\")\n",
    "print(f\"Greatest Increase in Profits: {maxVal[0]} ({maxVal[1]})\") \n",
    "print(f\"Greatest Decrease in Profits: {minVal[0]} ({minVal[1]})\")"
   ]
  }
 ],
 "metadata": {
  "kernelspec": {
   "display_name": "base",
   "language": "python",
   "name": "python3"
  },
  "language_info": {
   "codemirror_mode": {
    "name": "ipython",
    "version": 3
   },
   "file_extension": ".py",
   "mimetype": "text/x-python",
   "name": "python",
   "nbconvert_exporter": "python",
   "pygments_lexer": "ipython3",
   "version": "3.12.7"
  }
 },
 "nbformat": 4,
 "nbformat_minor": 2
}
