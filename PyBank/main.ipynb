{
 "cells": [
  {
   "cell_type": "markdown",
   "metadata": {},
   "source": [
    "### Neel Agarwal @Neelka96\n",
    "### Last Updated: 12.4.2024\n",
    "\n",
    "### PyBank Instructions\n",
    "**In this Challenge, you are tasked with creating a Python script to analyze the financial records of your company.**\n",
    "\n",
    "#### You will be given a financial dataset called **budget_data.csv**. The dataset is composed of two columns: **\"Date\" and \"Profit/Losses\"**.\n",
    "#### Your task is to create a Python script that analyzes the records to calculate each of the following values:\n",
    "\n",
    "##### The total number of months included in the dataset\n",
    "##### The net total amount of \"Profit/Losses\" over the entire period\n",
    "##### The changes in \"Profit/Losses\" over the entire period, and then the average of those changes\n",
    "##### The greatest increase in profits (date and amount) over the entire period\n",
    "##### The greatest decrease in profits (date and amount) over the entire period\n",
    "\n",
    "In addition, your final script should both print the analysis to the terminal and export a text file with the results.\n",
    "\n",
    "Desired output:\n",
    "\n",
    "##### Financial Analysis\n",
    "\n",
    "---\n",
    "\n",
    "##### Total Months: 86\n",
    "\n",
    "##### Total: $22564198\n",
    "\n",
    "##### Average Change: $-8311.11\n",
    "\n",
    "##### Greatest Increase in Profits: Aug-16 ($1862002)\n",
    "\n",
    "##### Greatest Decrease in Profits: Feb-14 ($-1825558)"
   ]
  },
  {
   "cell_type": "code",
   "execution_count": null,
   "metadata": {},
   "outputs": [],
   "source": [
    "# Import Libraries\n",
    "import csv\n",
    "import os"
   ]
  },
  {
   "cell_type": "code",
   "execution_count": null,
   "metadata": {},
   "outputs": [],
   "source": [
    "# Set .csv and .txt paths for importing and exporting\n",
    "importPath = os.path.join(\"Resources\", \"budget_data.csv\")\n",
    "exportPath = os.path.join(\"analysis\", \"budget_analysis.txt\")"
   ]
  },
  {
   "cell_type": "code",
   "execution_count": null,
   "metadata": {},
   "outputs": [],
   "source": [
    "# Global variables initializations\n",
    "totalMonths = 0\n",
    "netProfit = 0\n",
    "changeList = [] # changeList will collect differentials between neighboring values\n",
    "maxVal = []\n",
    "minVal = []\n",
    "avgChange = 0"
   ]
  },
  {
   "cell_type": "code",
   "execution_count": null,
   "metadata": {},
   "outputs": [],
   "source": [
    "\n",
    "# Open csv path var and begin reading\n",
    "# csv path set to var > open csv file under new alias > start reading under alias\n",
    "# path > open(path) = path.open() > readerVar = csv.Reader(path.open())\n",
    "with open(importPath, 'r') as importData:\n",
    "    csvReader = csv.reader(importData, delimiter = \",\")\n",
    "    header = next(csvReader)    # Skip header row\n",
    "    \n",
    "    priorRow = next(csvReader)  # Save and skip 1st csv row for changeList[]\n",
    "    totalMonths += 1    # Count first row not included in \"for\" loop\n",
    "    \n",
    "    maxVal = priorRow   # Set max/min values arrays to 1st entry\n",
    "    minVal = priorRow\n",
    "\n",
    "    for row in csvReader:\n",
    "        totalMonths += 1    # Find total months listed in csv\n",
    "        netProfit += int(row[1])    # Calculate net profit/loss\n",
    "        \n",
    "        if (maxVal[1] < row[1]):\n",
    "            maxVal = row\n",
    "        elif (minVal[1] > row[1]):\n",
    "            minVal = row\n",
    "\n",
    "        budgetChange = int(row[1]) - int(priorRow[1]) # Calculate current change\n",
    "        changeList.append(budgetChange) # Appends differential to list\n",
    "        priorRow = row  # Sets current row as \"prior\" for next iteration\n",
    "\n",
    "    avgChange = sum(changeList) # Using a \"for\" loop is OK here too\n",
    "    avgChange /= (totalMonths - 1)  # avgChange /= len(changeList) is OK too"
   ]
  },
  {
   "cell_type": "code",
   "execution_count": null,
   "metadata": {},
   "outputs": [],
   "source": [
    "\n",
    "print(f\"Months: {totalMonths}, Profit/Loss: {netProfit}, Avg Change: {avgChange}\")\n",
    "print(f\"Greatest Increase in Profits: {minVal[0]} ({maxVal[1]})\") \n",
    "print(f\"Greatest Decrease in Profits: {minVal[0]} ({minVal[1]})\")"
   ]
  }
 ],
 "metadata": {
  "kernelspec": {
   "display_name": "base",
   "language": "python",
   "name": "python3"
  },
  "language_info": {
   "name": "python",
   "version": "3.12.7"
  }
 },
 "nbformat": 4,
 "nbformat_minor": 2
}
